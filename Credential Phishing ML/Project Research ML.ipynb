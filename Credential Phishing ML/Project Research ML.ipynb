{
 "cells": [
  {
   "cell_type": "code",
   "execution_count": 5,
   "metadata": {},
   "outputs": [],
   "source": [
    "import os\n",
    "import sys\n",
    "import re\n",
    "import matplotlib\n",
    "import pandas as pd\n",
    "import numpy as np\n",
    "from os.path import splitext\n",
    "import ipaddress as ip\n",
    "import tldextract\n",
    "import whois\n",
    "import datetime\n",
    "from urlparse import urlparse"
   ]
  },
  {
   "cell_type": "code",
   "execution_count": 126,
   "metadata": {},
   "outputs": [
    {
     "data": {
      "text/html": [
       "<div>\n",
       "<style scoped>\n",
       "    .dataframe tbody tr th:only-of-type {\n",
       "        vertical-align: middle;\n",
       "    }\n",
       "\n",
       "    .dataframe tbody tr th {\n",
       "        vertical-align: top;\n",
       "    }\n",
       "\n",
       "    .dataframe thead th {\n",
       "        text-align: right;\n",
       "    }\n",
       "</style>\n",
       "<table border=\"1\" class=\"dataframe\">\n",
       "  <thead>\n",
       "    <tr style=\"text-align: right;\">\n",
       "      <th></th>\n",
       "      <th>URL</th>\n",
       "      <th>Lable</th>\n",
       "    </tr>\n",
       "  </thead>\n",
       "  <tbody>\n",
       "    <tr>\n",
       "      <th>0</th>\n",
       "      <td>http://home.earthlink.net/~ralphcooper/index.htm</td>\n",
       "      <td>0</td>\n",
       "    </tr>\n",
       "    <tr>\n",
       "      <th>1</th>\n",
       "      <td>http://paypal.com.cpsess8151886677frontendpape...</td>\n",
       "      <td>1</td>\n",
       "    </tr>\n",
       "    <tr>\n",
       "      <th>2</th>\n",
       "      <td>http://treamicijax.com/Folder/</td>\n",
       "      <td>1</td>\n",
       "    </tr>\n",
       "    <tr>\n",
       "      <th>3</th>\n",
       "      <td>http://www.slrecords.us/</td>\n",
       "      <td>0</td>\n",
       "    </tr>\n",
       "    <tr>\n",
       "      <th>4</th>\n",
       "      <td>http://www.germany-usa.com/</td>\n",
       "      <td>0</td>\n",
       "    </tr>\n",
       "  </tbody>\n",
       "</table>\n",
       "</div>"
      ],
      "text/plain": [
       "                                                 URL  Lable\n",
       "0   http://home.earthlink.net/~ralphcooper/index.htm      0\n",
       "1  http://paypal.com.cpsess8151886677frontendpape...      1\n",
       "2                     http://treamicijax.com/Folder/      1\n",
       "3                           http://www.slrecords.us/      0\n",
       "4                        http://www.germany-usa.com/      0"
      ]
     },
     "execution_count": 126,
     "metadata": {},
     "output_type": "execute_result"
    }
   ],
   "source": [
    "df = pd.read_csv(\"dataset.csv\")\n",
    "\n",
    "df = df.sample(frac=1).reset_index(drop=True)\n",
    "df.head()"
   ]
  },
  {
   "cell_type": "code",
   "execution_count": 127,
   "metadata": {},
   "outputs": [],
   "source": [
    "featureSet = pd.DataFrame(columns=('url','len of url',\\\n",
    "'len of domain','is IP','presence of Suspicious_TLD',\\\n",
    "'presence of suspicious domain','label'))\n",
    "#featureSet = pd.DataFrame(columns=('url','len of url','len of domain','no of queries','is IP','presence of Suspicious_TLD',\\\n",
    "#'presence of suspicious domain','label'))"
   ]
  },
  {
   "cell_type": "code",
   "execution_count": 63,
   "metadata": {},
   "outputs": [],
   "source": [
    "import logging as log\n",
    "import csv as CS\n",
    "from Web_Url_Feature import Weburlfeature as WF\n",
    "from web_main import Webmain\n",
    "def getFeatures(url, label):\n",
    "    result=[]\n",
    "    url = str(url)\n",
    "    result.append(url)\n",
    "    \n",
    "    result.append(len(url))\n",
    "    #parse the URL and extract the domain information\n",
    "    path = urlparse(url)\n",
    "    ext = tldextract.extract(url)\n",
    "    #if ip address is being used as url\n",
    "    result.append(isip(ext.domain))\n",
    "    \n",
    "    #the number of queries  made   \n",
    "    result.append(len(path.query))\n",
    "    \n",
    "    #presence of Suspicious Top level domain\n",
    "    result.append(1 if ext.suffix in Suspicious_TLD else 0)\n",
    "    \n",
    "    #check if FQDN is supspicious\n",
    "    result.append(1 if '.'.join(ext[1:]) in Suspicious_Domain else 0 )\n",
    "    caller = Webmain()\n",
    "    caller.testUrlfile('test.txt','test_features.csv')\n",
    "    \n",
    "    result.append(str(label))\n",
    "    return result\n"
   ]
  },
  {
   "cell_type": "code",
   "execution_count": 7,
   "metadata": {},
   "outputs": [
    {
     "data": {
      "text/plain": [
       "7030"
      ]
     },
     "execution_count": 7,
     "metadata": {},
     "output_type": "execute_result"
    }
   ],
   "source": [
    "len(df) #displaying 5 records"
   ]
  },
  {
   "cell_type": "code",
   "execution_count": 64,
   "metadata": {},
   "outputs": [],
   "source": [
    "Suspicious_TLD=['zip','cricket','link','work','party','gq','kim','country','science','tk']\n",
    "Suspicious_Domain=['luckytime.co.kr','mattfoll.eu.interia.pl','trafficholder.com','dl.baixaki.com.br','bembed.redtube.comr','tags.expo9.exponential.com','deepspacer.com','funad.co.kr','trafficconverter.biz']"
   ]
  },
  {
   "cell_type": "code",
   "execution_count": 65,
   "metadata": {},
   "outputs": [],
   "source": [
    "def countdots(url):  \n",
    "    return url.count('.')"
   ]
  },
  {
   "cell_type": "code",
   "execution_count": 66,
   "metadata": {},
   "outputs": [],
   "source": [
    "def countdelim(url):\n",
    "    count = 0\n",
    "    delim=[';','_','?','=','&']\n",
    "    for each in url:\n",
    "        if each in delim:\n",
    "            count = count + 1\n",
    "    \n",
    "    return count"
   ]
  },
  {
   "cell_type": "code",
   "execution_count": 67,
   "metadata": {},
   "outputs": [],
   "source": [
    "import ipaddress as ip #works only in python 3\n",
    "\n",
    "def isip(uri):\n",
    "    try:\n",
    "        if ip.ip_address(uri):\n",
    "            return 1\n",
    "    except:\n",
    "        return 0"
   ]
  },
  {
   "cell_type": "code",
   "execution_count": 68,
   "metadata": {},
   "outputs": [],
   "source": [
    "\n",
    "def isPresentHyphen(url):\n",
    "    return url.count('-')"
   ]
  },
  {
   "cell_type": "code",
   "execution_count": 69,
   "metadata": {},
   "outputs": [],
   "source": [
    "def isPresentAt(url):\n",
    "    return url.count('@')"
   ]
  },
  {
   "cell_type": "code",
   "execution_count": 70,
   "metadata": {},
   "outputs": [],
   "source": [
    "def isPresentDSlash(url):\n",
    "    return url.count('//')"
   ]
  },
  {
   "cell_type": "code",
   "execution_count": 71,
   "metadata": {},
   "outputs": [],
   "source": [
    "def countSubDir(url):\n",
    "    return url.count('/')"
   ]
  },
  {
   "cell_type": "code",
   "execution_count": 72,
   "metadata": {},
   "outputs": [],
   "source": [
    "def countSubDomain(subdomain):\n",
    "    if not subdomain:\n",
    "        return 0\n",
    "    else:\n",
    "        return len(subdomain.split('.'))"
   ]
  },
  {
   "cell_type": "code",
   "execution_count": 73,
   "metadata": {},
   "outputs": [],
   "source": [
    "def countQueries(query):\n",
    "    if not query:\n",
    "        return 0\n",
    "    else:\n",
    "        return len(query.split('&'))"
   ]
  },
  {
   "cell_type": "code",
   "execution_count": 74,
   "metadata": {},
   "outputs": [],
   "source": [
    "def get_ext(url):\n",
    "    \"\"\"Return the filename extension from url, or ''.\"\"\"\n",
    "    \n",
    "    root, ext = splitext(url)\n",
    "    return ext"
   ]
  },
  {
   "cell_type": "code",
   "execution_count": 131,
   "metadata": {},
   "outputs": [],
   "source": [
    "\n",
    "def getFeatures(url, label): \n",
    "    result = []\n",
    "    url = str(url)\n",
    "    \n",
    "    #add the url to feature set\n",
    "    result.append(url)\n",
    "    #length of the url\n",
    "    result.append(len(url))\n",
    "    #parse the URL and extract the domain information\n",
    "    path = urlparse(url)\n",
    "    ext = tldextract.extract(url)\n",
    "    \n",
    "   \n",
    "  \n",
    "    #length of domain name    \n",
    "    result.append(len(path.netloc))\n",
    "    \n",
    "\n",
    "    #Adding domain information\n",
    "    \n",
    "    #if IP address is being used as a URL     \n",
    "    result.append(isip(ext.domain))\n",
    "    \n",
    "    #presence of Suspicious_TLD\n",
    "    result.append(1 if ext.suffix in Suspicious_TLD else 0)\n",
    "    \n",
    "    #presence of suspicious domain\n",
    "    result.append(1 if '.'.join(ext[1:]) in Suspicious_Domain else 0 )\n",
    "     \n",
    "   \n",
    "    #result.append(get_ext(path.path))\n",
    "    result.append(str(label))\n",
    "    return result\n",
    "                  \n",
    "     \n",
    "    "
   ]
  },
  {
   "cell_type": "code",
   "execution_count": 129,
   "metadata": {},
   "outputs": [
    {
     "name": "stdout",
     "output_type": "stream",
     "text": [
      "Processig Request......\n",
      "{'url_path_max': 0, 'url_security_words_count': 0, 'url_path_count': 0, 'url_host_max': 6, 'url_host_len': 10, 'url_safe_browsing': -1, 'avg_url_host_len': 4.5, 'rank_country_url': -1, 'url_token_count': 3, 'url_token_max': 6, 'avg_url_token_len': 4.333333333333333, 'ipaddress_existence': 0, 'url_asn_no': -1, 'rank_url_host': -1, 'url_host_count': 2, 'avg_url_path_len': 0, 'url_host': 'google.com', 'url_dots': 1, 'url_path': '', 'url_len': 17, 'url_address': 'http://google.com'}\n",
      "Processig Request......\n",
      "{'url_path_max': 0, 'url_security_words_count': 0, 'url_path_count': 0, 'url_host_max': 8, 'url_host_len': 12, 'url_safe_browsing': -1, 'avg_url_host_len': 5.5, 'rank_country_url': -1, 'url_token_count': 3, 'url_token_max': 8, 'avg_url_token_len': 5.0, 'ipaddress_existence': 0, 'url_asn_no': -1, 'rank_url_host': -1, 'url_host_count': 2, 'avg_url_path_len': 0, 'url_host': 'facebook.com', 'url_dots': 1, 'url_path': '', 'url_len': 19, 'url_address': 'http://facebook.com'}\n",
      "Processig Request......\n",
      "{'url_path_max': 0, 'url_security_words_count': 0, 'url_path_count': 0, 'url_host_max': 7, 'url_host_len': 11, 'url_safe_browsing': -1, 'avg_url_host_len': 5.0, 'rank_country_url': -1, 'url_token_count': 3, 'url_token_max': 7, 'avg_url_token_len': 4.666666666666667, 'ipaddress_existence': 0, 'url_asn_no': -1, 'rank_url_host': -1, 'url_host_count': 2, 'avg_url_path_len': 0, 'url_host': 'youtube.com', 'url_dots': 1, 'url_path': '', 'url_len': 18, 'url_address': 'http://youtube.com'}\n",
      "Processig Request......\n",
      "{'url_path_max': 0, 'url_security_words_count': 0, 'url_path_count': 0, 'url_host_max': 5, 'url_host_len': 9, 'url_safe_browsing': -1, 'avg_url_host_len': 4.0, 'rank_country_url': -1, 'url_token_count': 3, 'url_token_max': 5, 'avg_url_token_len': 4.0, 'ipaddress_existence': 0, 'url_asn_no': -1, 'rank_url_host': -1, 'url_host_count': 2, 'avg_url_path_len': 0, 'url_host': 'yahoo.com', 'url_dots': 1, 'url_path': '', 'url_len': 16, 'url_address': 'http://yahoo.com'}\n",
      "Processig Request......\n",
      "{'url_path_max': 0, 'url_security_words_count': 0, 'url_path_count': 0, 'url_host_max': 5, 'url_host_len': 9, 'url_safe_browsing': -1, 'avg_url_host_len': 4.0, 'rank_country_url': -1, 'url_token_count': 3, 'url_token_max': 5, 'avg_url_token_len': 4.0, 'ipaddress_existence': 0, 'url_asn_no': -1, 'rank_url_host': -1, 'url_host_count': 2, 'avg_url_path_len': 0, 'url_host': 'baidu.com', 'url_dots': 1, 'url_path': '', 'url_len': 16, 'url_address': 'http://baidu.com'}\n",
      "Processig Request......\n",
      "{'url_path_max': 0, 'url_security_words_count': 0, 'url_path_count': 0, 'url_host_max': 9, 'url_host_len': 13, 'url_safe_browsing': -1, 'avg_url_host_len': 6.0, 'rank_country_url': -1, 'url_token_count': 3, 'url_token_max': 9, 'avg_url_token_len': 5.333333333333333, 'ipaddress_existence': 0, 'url_asn_no': -1, 'rank_url_host': -1, 'url_host_count': 2, 'avg_url_path_len': 0, 'url_host': 'wikipedia.org', 'url_dots': 1, 'url_path': '', 'url_len': 20, 'url_address': 'http://wikipedia.org'}\n",
      "Processig Request......\n",
      "{'url_path_max': 0, 'url_security_words_count': 0, 'url_path_count': 0, 'url_host_max': 3, 'url_host_len': 6, 'url_safe_browsing': -1, 'avg_url_host_len': 2.5, 'rank_country_url': -1, 'url_token_count': 3, 'url_token_max': 4, 'avg_url_token_len': 3.0, 'ipaddress_existence': 0, 'url_asn_no': -1, 'rank_url_host': -1, 'url_host_count': 2, 'avg_url_path_len': 0, 'url_host': 'qq.com', 'url_dots': 1, 'url_path': '', 'url_len': 13, 'url_address': 'http://qq.com'}\n",
      "Processig Request......\n",
      "{'url_path_max': 0, 'url_security_words_count': 0, 'url_path_count': 0, 'url_host_max': 8, 'url_host_len': 12, 'url_safe_browsing': -1, 'avg_url_host_len': 5.5, 'rank_country_url': -1, 'url_token_count': 3, 'url_token_max': 8, 'avg_url_token_len': 5.0, 'ipaddress_existence': 0, 'url_asn_no': -1, 'rank_url_host': -1, 'url_host_count': 2, 'avg_url_path_len': 0, 'url_host': 'linkedin.com', 'url_dots': 1, 'url_path': '', 'url_len': 19, 'url_address': 'http://linkedin.com'}\n",
      "Processig Request......\n",
      "{'url_path_max': 0, 'url_security_words_count': 0, 'url_path_count': 0, 'url_host_max': 4, 'url_host_len': 8, 'url_safe_browsing': -1, 'avg_url_host_len': 3.5, 'rank_country_url': -1, 'url_token_count': 3, 'url_token_max': 4, 'avg_url_token_len': 3.6666666666666665, 'ipaddress_existence': 0, 'url_asn_no': -1, 'rank_url_host': -1, 'url_host_count': 2, 'avg_url_path_len': 0, 'url_host': 'live.com', 'url_dots': 1, 'url_path': '', 'url_len': 15, 'url_address': 'http://live.com'}\n",
      "Processig Request......\n",
      "{'url_path_max': 0, 'url_security_words_count': 0, 'url_path_count': 0, 'url_host_max': 7, 'url_host_len': 11, 'url_safe_browsing': -1, 'avg_url_host_len': 5.0, 'rank_country_url': -1, 'url_token_count': 3, 'url_token_max': 7, 'avg_url_token_len': 4.666666666666667, 'ipaddress_existence': 0, 'url_asn_no': -1, 'rank_url_host': -1, 'url_host_count': 2, 'avg_url_path_len': 0, 'url_host': 'twitter.com', 'url_dots': 1, 'url_path': '', 'url_len': 18, 'url_address': 'http://twitter.com'}\n",
      "Processig Request......\n",
      "{'url_path_max': 0, 'url_security_words_count': 0, 'url_path_count': 0, 'url_host_max': 6, 'url_host_len': 10, 'url_safe_browsing': -1, 'avg_url_host_len': 4.5, 'rank_country_url': -1, 'url_token_count': 3, 'url_token_max': 6, 'avg_url_token_len': 4.333333333333333, 'ipaddress_existence': 0, 'url_asn_no': -1, 'rank_url_host': -1, 'url_host_count': 2, 'avg_url_path_len': 0, 'url_host': 'amazon.com', 'url_dots': 1, 'url_path': '', 'url_len': 17, 'url_address': 'http://amazon.com'}\n",
      "Processig Request......\n",
      "{'url_path_max': 0, 'url_security_words_count': 0, 'url_path_count': 0, 'url_host_max': 6, 'url_host_len': 10, 'url_safe_browsing': -1, 'avg_url_host_len': 4.5, 'rank_country_url': -1, 'url_token_count': 3, 'url_token_max': 6, 'avg_url_token_len': 4.333333333333333, 'ipaddress_existence': 0, 'url_asn_no': -1, 'rank_url_host': -1, 'url_host_count': 2, 'avg_url_path_len': 0, 'url_host': 'taobao.com', 'url_dots': 1, 'url_path': '', 'url_len': 17, 'url_address': 'http://taobao.com'}\n",
      "Processig Request......\n",
      "{'url_path_max': 0, 'url_security_words_count': 0, 'url_path_count': 0, 'url_host_max': 8, 'url_host_len': 12, 'url_safe_browsing': -1, 'avg_url_host_len': 5.5, 'rank_country_url': -1, 'url_token_count': 3, 'url_token_max': 8, 'avg_url_token_len': 5.0, 'ipaddress_existence': 0, 'url_asn_no': -1, 'rank_url_host': -1, 'url_host_count': 2, 'avg_url_path_len': 0, 'url_host': 'blogspot.com', 'url_dots': 1, 'url_path': '', 'url_len': 19, 'url_address': 'http://blogspot.com'}\n",
      "Processig Request......\n",
      "{'url_path_max': 0, 'url_security_words_count': 0, 'url_path_count': 0, 'url_host_max': 6, 'url_host_len': 12, 'url_safe_browsing': -1, 'avg_url_host_len': 3.3333333333333335, 'rank_country_url': -1, 'url_token_count': 4, 'url_token_max': 6, 'avg_url_token_len': 3.5, 'ipaddress_existence': 0, 'url_asn_no': -1, 'rank_url_host': -1, 'url_host_count': 3, 'avg_url_path_len': 0, 'url_host': 'google.co.in', 'url_dots': 2, 'url_path': '', 'url_len': 19, 'url_address': 'http://google.co.in'}\n",
      "Processig Request......\n",
      "{'url_path_max': 0, 'url_security_words_count': 0, 'url_path_count': 0, 'url_host_max': 9, 'url_host_len': 13, 'url_safe_browsing': -1, 'avg_url_host_len': 6.0, 'rank_country_url': -1, 'url_token_count': 3, 'url_token_max': 9, 'avg_url_token_len': 5.333333333333333, 'ipaddress_existence': 0, 'url_asn_no': -1, 'rank_url_host': -1, 'url_host_count': 2, 'avg_url_path_len': 0, 'url_host': 'wordpress.com', 'url_dots': 1, 'url_path': '', 'url_len': 20, 'url_address': 'http://wordpress.com'}\n",
      "Processig Request......\n",
      "{'url_path_max': 0, 'url_security_words_count': 0, 'url_path_count': 0, 'url_host_max': 4, 'url_host_len': 11, 'url_safe_browsing': -1, 'avg_url_host_len': 3.0, 'rank_country_url': -1, 'url_token_count': 4, 'url_token_max': 4, 'avg_url_token_len': 3.25, 'ipaddress_existence': 0, 'url_asn_no': -1, 'rank_url_host': -1, 'url_host_count': 3, 'avg_url_path_len': 0, 'url_host': 'sina.com.cn', 'url_dots': 2, 'url_path': '', 'url_len': 18, 'url_address': 'http://sina.com.cn'}\n",
      "Processig Request......\n",
      "{'url_path_max': 0, 'url_security_words_count': 0, 'url_path_count': 0, 'url_host_max': 6, 'url_host_len': 9, 'url_safe_browsing': -1, 'avg_url_host_len': 4.0, 'rank_country_url': -1, 'url_token_count': 3, 'url_token_max': 6, 'avg_url_token_len': 4.0, 'ipaddress_existence': 0, 'url_asn_no': -1, 'rank_url_host': -1, 'url_host_count': 2, 'avg_url_path_len': 0, 'url_host': 'yandex.ru', 'url_dots': 1, 'url_path': '', 'url_len': 16, 'url_address': 'http://yandex.ru'}\n",
      "Processig Request......\n",
      "{'url_path_max': 0, 'url_security_words_count': 0, 'url_path_count': 0, 'url_host_max': 5, 'url_host_len': 11, 'url_safe_browsing': -1, 'avg_url_host_len': 3.0, 'rank_country_url': -1, 'url_token_count': 4, 'url_token_max': 5, 'avg_url_token_len': 3.25, 'ipaddress_existence': 0, 'url_asn_no': -1, 'rank_url_host': -1, 'url_host_count': 3, 'avg_url_path_len': 0, 'url_host': 'yahoo.co.jp', 'url_dots': 2, 'url_path': '', 'url_len': 18, 'url_address': 'http://yahoo.co.jp'}\n",
      "Processig Request......\n",
      "{'url_path_max': 0, 'url_security_words_count': 0, 'url_path_count': 0, 'url_host_max': 4, 'url_host_len': 8, 'url_safe_browsing': -1, 'avg_url_host_len': 3.5, 'rank_country_url': -1, 'url_token_count': 3, 'url_token_max': 4, 'avg_url_token_len': 3.6666666666666665, 'ipaddress_existence': 0, 'url_asn_no': -1, 'rank_url_host': -1, 'url_host_count': 2, 'avg_url_path_len': 0, 'url_host': 'bing.com', 'url_dots': 1, 'url_path': '', 'url_len': 15, 'url_address': 'http://bing.com'}\n",
      "Processig Request......\n",
      "{'url_path_max': 0, 'url_security_words_count': 0, 'url_path_count': 0, 'url_host_max': 6, 'url_host_len': 10, 'url_safe_browsing': -1, 'avg_url_host_len': 4.5, 'rank_country_url': -1, 'url_token_count': 3, 'url_token_max': 6, 'avg_url_token_len': 4.333333333333333, 'ipaddress_existence': 0, 'url_asn_no': -1, 'rank_url_host': -1, 'url_host_count': 2, 'avg_url_path_len': 0, 'url_host': 'hao123.com', 'url_dots': 1, 'url_path': '', 'url_len': 17, 'url_address': 'http://hao123.com'}\n",
      "Processig Request......\n"
     ]
    },
    {
     "name": "stdout",
     "output_type": "stream",
     "text": [
      "{'url_path_max': 0, 'url_security_words_count': 0, 'url_path_count': 0, 'url_host_max': 6, 'url_host_len': 9, 'url_safe_browsing': -1, 'avg_url_host_len': 4.0, 'rank_country_url': -1, 'url_token_count': 3, 'url_token_max': 6, 'avg_url_token_len': 4.0, 'ipaddress_existence': 0, 'url_asn_no': -1, 'rank_url_host': -1, 'url_host_count': 2, 'avg_url_path_len': 0, 'url_host': 'google.de', 'url_dots': 1, 'url_path': '', 'url_len': 16, 'url_address': 'http://google.de'}\n",
      "Processig Request......\n",
      "{'url_path_max': 0, 'url_security_words_count': 0, 'url_path_count': 0, 'url_host_max': 3, 'url_host_len': 6, 'url_safe_browsing': -1, 'avg_url_host_len': 2.5, 'rank_country_url': -1, 'url_token_count': 3, 'url_token_max': 4, 'avg_url_token_len': 3.0, 'ipaddress_existence': 0, 'url_asn_no': -1, 'rank_url_host': -1, 'url_host_count': 2, 'avg_url_path_len': 0, 'url_host': 'vk.com', 'url_dots': 1, 'url_path': '', 'url_len': 13, 'url_address': 'http://vk.com'}\n",
      "Processig Request......\n",
      "{'url_path_max': 0, 'url_security_words_count': 0, 'url_path_count': 0, 'url_host_max': 4, 'url_host_len': 8, 'url_safe_browsing': -1, 'avg_url_host_len': 3.5, 'rank_country_url': -1, 'url_token_count': 3, 'url_token_max': 4, 'avg_url_token_len': 3.6666666666666665, 'ipaddress_existence': 0, 'url_asn_no': -1, 'rank_url_host': -1, 'url_host_count': 2, 'avg_url_path_len': 0, 'url_host': 'ebay.com', 'url_dots': 1, 'url_path': '', 'url_len': 15, 'url_address': 'http://ebay.com'}\n",
      "Processig Request......\n",
      "{'url_path_max': 0, 'url_security_words_count': 0, 'url_path_count': 0, 'url_host_max': 3, 'url_host_len': 7, 'url_safe_browsing': -1, 'avg_url_host_len': 3.0, 'rank_country_url': -1, 'url_token_count': 3, 'url_token_max': 4, 'avg_url_token_len': 3.3333333333333335, 'ipaddress_existence': 0, 'url_asn_no': -1, 'rank_url_host': -1, 'url_host_count': 2, 'avg_url_path_len': 0, 'url_host': '163.com', 'url_dots': 1, 'url_path': '', 'url_len': 14, 'url_address': 'http://163.com'}\n",
      "Processig Request......\n",
      "{'url_path_max': 0, 'url_security_words_count': 0, 'url_path_count': 0, 'url_host_max': 17, 'url_host_len': 21, 'url_safe_browsing': -1, 'avg_url_host_len': 10.0, 'rank_country_url': -1, 'url_token_count': 3, 'url_token_max': 17, 'avg_url_token_len': 8.0, 'ipaddress_existence': 0, 'url_asn_no': -1, 'rank_url_host': -1, 'url_host_count': 2, 'avg_url_path_len': 0, 'url_host': 'googleusercontent.com', 'url_dots': 1, 'url_path': '', 'url_len': 28, 'url_address': 'http://googleusercontent.com'}\n",
      "Processig Request......\n",
      "{'url_path_max': 0, 'url_security_words_count': 0, 'url_path_count': 0, 'url_host_max': 6, 'url_host_len': 12, 'url_safe_browsing': -1, 'avg_url_host_len': 3.3333333333333335, 'rank_country_url': -1, 'url_token_count': 4, 'url_token_max': 6, 'avg_url_token_len': 3.5, 'ipaddress_existence': 0, 'url_asn_no': -1, 'rank_url_host': -1, 'url_host_count': 3, 'avg_url_path_len': 0, 'url_host': 'google.co.uk', 'url_dots': 2, 'url_path': '', 'url_len': 19, 'url_address': 'http://google.co.uk'}\n",
      "Processig Request......\n",
      "{'url_path_max': 0, 'url_security_words_count': 0, 'url_path_count': 0, 'url_host_max': 6, 'url_host_len': 10, 'url_safe_browsing': -1, 'avg_url_host_len': 4.5, 'rank_country_url': -1, 'url_token_count': 3, 'url_token_max': 6, 'avg_url_token_len': 4.333333333333333, 'ipaddress_existence': 0, 'url_asn_no': -1, 'rank_url_host': -1, 'url_host_count': 2, 'avg_url_path_len': 0, 'url_host': 'tumblr.com', 'url_dots': 1, 'url_path': '', 'url_len': 17, 'url_address': 'http://tumblr.com'}\n",
      "Processig Request......\n",
      "{'url_path_max': 0, 'url_security_words_count': 0, 'url_path_count': 0, 'url_host_max': 9, 'url_host_len': 13, 'url_safe_browsing': -1, 'avg_url_host_len': 6.0, 'rank_country_url': -1, 'url_token_count': 3, 'url_token_max': 9, 'avg_url_token_len': 5.333333333333333, 'ipaddress_existence': 0, 'url_asn_no': -1, 'rank_url_host': -1, 'url_host_count': 2, 'avg_url_path_len': 0, 'url_host': 'pinterest.com', 'url_dots': 1, 'url_path': '', 'url_len': 20, 'url_address': 'http://pinterest.com'}\n",
      "Processig Request......\n",
      "{'url_path_max': 0, 'url_security_words_count': 0, 'url_path_count': 0, 'url_host_max': 6, 'url_host_len': 9, 'url_safe_browsing': -1, 'avg_url_host_len': 4.0, 'rank_country_url': -1, 'url_token_count': 3, 'url_token_max': 6, 'avg_url_token_len': 4.0, 'ipaddress_existence': 0, 'url_asn_no': -1, 'rank_url_host': -1, 'url_host_count': 2, 'avg_url_path_len': 0, 'url_host': 'google.fr', 'url_dots': 1, 'url_path': '', 'url_len': 16, 'url_address': 'http://google.fr'}\n",
      "Processig Request......\n",
      "{'url_path_max': 0, 'url_security_words_count': 0, 'url_path_count': 0, 'url_host_max': 5, 'url_host_len': 9, 'url_safe_browsing': -1, 'avg_url_host_len': 4.0, 'rank_country_url': -1, 'url_token_count': 3, 'url_token_max': 5, 'avg_url_token_len': 4.0, 'ipaddress_existence': 0, 'url_asn_no': -1, 'rank_url_host': -1, 'url_host_count': 2, 'avg_url_path_len': 0, 'url_host': 'apple.com', 'url_dots': 1, 'url_path': '', 'url_len': 16, 'url_address': 'http://apple.com'}\n"
     ]
    }
   ],
   "source": [
    "from Web_Url_Feature import Weburlfeature as WF\n",
    "from web_main import Webmain\n",
    "caller = Webmain()\n",
    "caller.testUrlfile('test.txt','test_features.csv')"
   ]
  },
  {
   "cell_type": "code",
   "execution_count": 132,
   "metadata": {},
   "outputs": [],
   "source": [
    "for i in range(len(df)):\n",
    "    features = getFeatures(df[\"URL\"].loc[i], df[\"Lable\"].loc[i])    \n",
    "    featureSet.loc[i] = features"
   ]
  },
  {
   "cell_type": "code",
   "execution_count": 119,
   "metadata": {},
   "outputs": [],
   "source": [
    "import matplotlib.pyplot as plt\n",
    "import pandas as pd\n",
    "import seaborn as sns\n",
    "import pickle as pkl\n",
    "from __future__ import division"
   ]
  },
  {
   "cell_type": "code",
   "execution_count": 133,
   "metadata": {},
   "outputs": [
    {
     "ename": "ValueError",
     "evalue": "color kwarg must have one color per dataset",
     "output_type": "error",
     "traceback": [
      "\u001b[0;31m---------------------------------------------------------------------------\u001b[0m",
      "\u001b[0;31mValueError\u001b[0m                                Traceback (most recent call last)",
      "\u001b[0;32m<ipython-input-133-b8455db4392b>\u001b[0m in \u001b[0;36m<module>\u001b[0;34m()\u001b[0m\n\u001b[1;32m      1\u001b[0m \u001b[0msns\u001b[0m\u001b[0;34m.\u001b[0m\u001b[0mset\u001b[0m\u001b[0;34m(\u001b[0m\u001b[0mstyle\u001b[0m\u001b[0;34m=\u001b[0m\u001b[0;34m\"darkgrid\"\u001b[0m\u001b[0;34m)\u001b[0m\u001b[0;34m\u001b[0m\u001b[0m\n\u001b[0;32m----> 2\u001b[0;31m \u001b[0msns\u001b[0m\u001b[0;34m.\u001b[0m\u001b[0mdistplot\u001b[0m\u001b[0;34m(\u001b[0m\u001b[0mfeatureSet\u001b[0m\u001b[0;34m[\u001b[0m\u001b[0mfeatureSet\u001b[0m\u001b[0;34m[\u001b[0m\u001b[0;34m'label'\u001b[0m\u001b[0;34m]\u001b[0m\u001b[0;34m==\u001b[0m\u001b[0;34m'0'\u001b[0m\u001b[0;34m]\u001b[0m\u001b[0;34m[\u001b[0m\u001b[0;34m'presence of Suspicious_TLD'\u001b[0m\u001b[0;34m]\u001b[0m\u001b[0;34m,\u001b[0m\u001b[0mcolor\u001b[0m\u001b[0;34m=\u001b[0m\u001b[0;34m'green'\u001b[0m\u001b[0;34m,\u001b[0m\u001b[0mlabel\u001b[0m\u001b[0;34m=\u001b[0m\u001b[0;34m'Benign URLs'\u001b[0m\u001b[0;34m)\u001b[0m\u001b[0;34m\u001b[0m\u001b[0m\n\u001b[0m\u001b[1;32m      3\u001b[0m \u001b[0msns\u001b[0m\u001b[0;34m.\u001b[0m\u001b[0mdistplot\u001b[0m\u001b[0;34m(\u001b[0m\u001b[0mfeatureSet\u001b[0m\u001b[0;34m[\u001b[0m\u001b[0mfeatureSet\u001b[0m\u001b[0;34m[\u001b[0m\u001b[0;34m'label'\u001b[0m\u001b[0;34m]\u001b[0m\u001b[0;34m==\u001b[0m\u001b[0;34m'1'\u001b[0m\u001b[0;34m]\u001b[0m\u001b[0;34m[\u001b[0m\u001b[0;34m'presence of Suspicious_TLD'\u001b[0m\u001b[0;34m]\u001b[0m\u001b[0;34m,\u001b[0m\u001b[0mcolor\u001b[0m\u001b[0;34m=\u001b[0m\u001b[0;34m'red'\u001b[0m\u001b[0;34m,\u001b[0m\u001b[0mlabel\u001b[0m\u001b[0;34m=\u001b[0m\u001b[0;34m'Phishing URLs'\u001b[0m\u001b[0;34m)\u001b[0m\u001b[0;34m\u001b[0m\u001b[0m\n\u001b[1;32m      4\u001b[0m \u001b[0mplt\u001b[0m\u001b[0;34m.\u001b[0m\u001b[0mtitle\u001b[0m\u001b[0;34m(\u001b[0m\u001b[0;34m'Url Length Distribution'\u001b[0m\u001b[0;34m)\u001b[0m\u001b[0;34m\u001b[0m\u001b[0m\n\u001b[1;32m      5\u001b[0m \u001b[0mplt\u001b[0m\u001b[0;34m.\u001b[0m\u001b[0mlegend\u001b[0m\u001b[0;34m(\u001b[0m\u001b[0mloc\u001b[0m\u001b[0;34m=\u001b[0m\u001b[0;34m'upper right'\u001b[0m\u001b[0;34m)\u001b[0m\u001b[0;34m\u001b[0m\u001b[0m\n",
      "\u001b[0;32m/anaconda2/lib/python2.7/site-packages/seaborn/distributions.pyc\u001b[0m in \u001b[0;36mdistplot\u001b[0;34m(a, bins, hist, kde, rug, fit, hist_kws, kde_kws, rug_kws, fit_kws, color, vertical, norm_hist, axlabel, label, ax)\u001b[0m\n\u001b[1;32m    216\u001b[0m         \u001b[0mhist_color\u001b[0m \u001b[0;34m=\u001b[0m \u001b[0mhist_kws\u001b[0m\u001b[0;34m.\u001b[0m\u001b[0mpop\u001b[0m\u001b[0;34m(\u001b[0m\u001b[0;34m\"color\"\u001b[0m\u001b[0;34m,\u001b[0m \u001b[0mcolor\u001b[0m\u001b[0;34m)\u001b[0m\u001b[0;34m\u001b[0m\u001b[0m\n\u001b[1;32m    217\u001b[0m         ax.hist(a, bins, orientation=orientation,\n\u001b[0;32m--> 218\u001b[0;31m                 color=hist_color, **hist_kws)\n\u001b[0m\u001b[1;32m    219\u001b[0m         \u001b[0;32mif\u001b[0m \u001b[0mhist_color\u001b[0m \u001b[0;34m!=\u001b[0m \u001b[0mcolor\u001b[0m\u001b[0;34m:\u001b[0m\u001b[0;34m\u001b[0m\u001b[0m\n\u001b[1;32m    220\u001b[0m             \u001b[0mhist_kws\u001b[0m\u001b[0;34m[\u001b[0m\u001b[0;34m\"color\"\u001b[0m\u001b[0;34m]\u001b[0m \u001b[0;34m=\u001b[0m \u001b[0mhist_color\u001b[0m\u001b[0;34m\u001b[0m\u001b[0m\n",
      "\u001b[0;32m/anaconda2/lib/python2.7/site-packages/matplotlib/__init__.pyc\u001b[0m in \u001b[0;36minner\u001b[0;34m(ax, *args, **kwargs)\u001b[0m\n\u001b[1;32m   1715\u001b[0m                     warnings.warn(msg % (label_namer, func.__name__),\n\u001b[1;32m   1716\u001b[0m                                   RuntimeWarning, stacklevel=2)\n\u001b[0;32m-> 1717\u001b[0;31m             \u001b[0;32mreturn\u001b[0m \u001b[0mfunc\u001b[0m\u001b[0;34m(\u001b[0m\u001b[0max\u001b[0m\u001b[0;34m,\u001b[0m \u001b[0;34m*\u001b[0m\u001b[0margs\u001b[0m\u001b[0;34m,\u001b[0m \u001b[0;34m**\u001b[0m\u001b[0mkwargs\u001b[0m\u001b[0;34m)\u001b[0m\u001b[0;34m\u001b[0m\u001b[0m\n\u001b[0m\u001b[1;32m   1718\u001b[0m         \u001b[0mpre_doc\u001b[0m \u001b[0;34m=\u001b[0m \u001b[0minner\u001b[0m\u001b[0;34m.\u001b[0m\u001b[0m__doc__\u001b[0m\u001b[0;34m\u001b[0m\u001b[0m\n\u001b[1;32m   1719\u001b[0m         \u001b[0;32mif\u001b[0m \u001b[0mpre_doc\u001b[0m \u001b[0;32mis\u001b[0m \u001b[0mNone\u001b[0m\u001b[0;34m:\u001b[0m\u001b[0;34m\u001b[0m\u001b[0m\n",
      "\u001b[0;32m/anaconda2/lib/python2.7/site-packages/matplotlib/axes/_axes.pyc\u001b[0m in \u001b[0;36mhist\u001b[0;34m(***failed resolving arguments***)\u001b[0m\n\u001b[1;32m   6137\u001b[0m             \u001b[0mcolor\u001b[0m \u001b[0;34m=\u001b[0m \u001b[0mmcolors\u001b[0m\u001b[0;34m.\u001b[0m\u001b[0mto_rgba_array\u001b[0m\u001b[0;34m(\u001b[0m\u001b[0mcolor\u001b[0m\u001b[0;34m)\u001b[0m\u001b[0;34m\u001b[0m\u001b[0m\n\u001b[1;32m   6138\u001b[0m             \u001b[0;32mif\u001b[0m \u001b[0mlen\u001b[0m\u001b[0;34m(\u001b[0m\u001b[0mcolor\u001b[0m\u001b[0;34m)\u001b[0m \u001b[0;34m!=\u001b[0m \u001b[0mnx\u001b[0m\u001b[0;34m:\u001b[0m\u001b[0;34m\u001b[0m\u001b[0m\n\u001b[0;32m-> 6139\u001b[0;31m                 \u001b[0;32mraise\u001b[0m \u001b[0mValueError\u001b[0m\u001b[0;34m(\u001b[0m\u001b[0;34m\"color kwarg must have one color per dataset\"\u001b[0m\u001b[0;34m)\u001b[0m\u001b[0;34m\u001b[0m\u001b[0m\n\u001b[0m\u001b[1;32m   6140\u001b[0m \u001b[0;34m\u001b[0m\u001b[0m\n\u001b[1;32m   6141\u001b[0m         \u001b[0;31m# If bins are not specified either explicitly or via range,\u001b[0m\u001b[0;34m\u001b[0m\u001b[0;34m\u001b[0m\u001b[0m\n",
      "\u001b[0;31mValueError\u001b[0m: color kwarg must have one color per dataset"
     ]
    },
    {
     "data": {
      "image/png": "[encoded data removed]",
      "text/plain": [
       "<matplotlib.figure.Figure at 0x109ad1c50>"
      ]
     },
     "metadata": {},
     "output_type": "display_data"
    }
   ],
   "source": [
    "sns.set(style=\"darkgrid\")\n",
    "sns.distplot(featureSet[featureSet['label']=='0']['presence of Suspicious_TLD'],color='green',label='Benign URLs')\n",
    "sns.distplot(featureSet[featureSet['label']=='1']['presence of Suspicious_TLD'],color='red',label='Phishing URLs')\n",
    "plt.title('Url Length Distribution')\n",
    "plt.legend(loc='upper right')\n",
    "plt.xlabel('Suspicious URL')\n",
    "\n",
    "plt.show()"
   ]
  },
  {
   "cell_type": "code",
   "execution_count": 134,
   "metadata": {},
   "outputs": [],
   "source": [
    "import sklearn.ensemble as ek\n",
    "from sklearn import cross_validation, tree, linear_model\n",
    "from sklearn.feature_selection import SelectFromModel\n",
    "from sklearn.externals import joblib\n",
    "from sklearn.naive_bayes import GaussianNB\n",
    "from sklearn.metrics import confusion_matrix\n",
    "from sklearn.pipeline import make_pipeline\n",
    "from sklearn import preprocessing\n",
    "from sklearn import svm\n",
    "from sklearn.linear_model import LogisticRegression"
   ]
  },
  {
   "cell_type": "code",
   "execution_count": 135,
   "metadata": {},
   "outputs": [],
   "source": [
    "model = { \"DecisionTree\":tree.DecisionTreeClassifier(max_depth=10),\n",
    "         \"RandomForest\":ek.RandomForestClassifier(n_estimators=50),\n",
    "         \"Adaboost\":ek.AdaBoostClassifier(n_estimators=50),\n",
    "         \"GradientBoosting\":ek.GradientBoostingClassifier(n_estimators=50),\n",
    "         \"GNB\":GaussianNB(),\n",
    "         \"LogisticRegression\":LogisticRegression()   \n",
    "}"
   ]
  },
  {
   "cell_type": "code",
   "execution_count": 136,
   "metadata": {},
   "outputs": [],
   "source": [
    "X = featureSet.drop(['url','label'],axis=1).values\n",
    "y = featureSet['label'].values\n",
    "X_train, X_test, y_train, y_test = cross_validation.train_test_split(X, y ,test_size=0.2)"
   ]
  },
  {
   "cell_type": "code",
   "execution_count": 137,
   "metadata": {},
   "outputs": [
    {
     "name": "stdout",
     "output_type": "stream",
     "text": [
      "LogisticRegression : 0.8051209103840683 \n",
      "RandomForest : 0.8570412517780939 \n",
      "GradientBoosting : 0.8691322901849218 \n",
      "GNB : 0.686344238975818 \n",
      "DecisionTree : 0.8627311522048364 \n",
      "Adaboost : 0.8428165007112376 \n"
     ]
    }
   ],
   "source": [
    "results = {}\n",
    "for algo in model:\n",
    "    clf = model[algo]\n",
    "    clf.fit(X_train,y_train)\n",
    "    score = clf.score(X_test,y_test)\n",
    "    print (\"%s : %s \" %(algo, score))\n",
    "    results[algo] = score"
   ]
  }
 ],
 "metadata": {
  "kernelspec": {
   "display_name": "Python 2",
   "language": "python",
   "name": "python2"
  },
  "language_info": {
   "codemirror_mode": {
    "name": "ipython",
    "version": 2
   },
   "file_extension": ".py",
   "mimetype": "text/x-python",
   "name": "python",
   "nbconvert_exporter": "python",
   "pygments_lexer": "ipython2",
   "version": "2.7.14"
  }
 },
 "nbformat": 4,
 "nbformat_minor": 2
}
